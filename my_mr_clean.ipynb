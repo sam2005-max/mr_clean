{
  "nbformat": 4,
  "nbformat_minor": 0,
  "metadata": {
    "colab": {
      "provenance": [],
      "authorship_tag": "ABX9TyOjMPuj+hlQO+yll+nuhYGF",
      "include_colab_link": true
    },
    "kernelspec": {
      "name": "python3",
      "display_name": "Python 3"
    },
    "language_info": {
      "name": "python"
    }
  },
  "cells": [
    {
      "cell_type": "markdown",
      "metadata": {
        "id": "view-in-github",
        "colab_type": "text"
      },
      "source": [
        "<a href=\"https://colab.research.google.com/github/sam2005-max/mr_clean/blob/main/my_mr_clean.ipynb\" target=\"_parent\"><img src=\"https://colab.research.google.com/assets/colab-badge.svg\" alt=\"Open In Colab\"/></a>"
      ]
    },
    {
      "cell_type": "code",
      "source": [
        "import requests\n",
        "from bs4 import BeautifulSoup\n",
        "import re\n",
        "import matplotlib.pyplot as plt\n",
        "import random\n"
      ],
      "metadata": {
        "id": "52V_9hlG38vO"
      },
      "execution_count": 1,
      "outputs": []
    },
    {
      "cell_type": "code",
      "source": [
        "def get_content(article_name):\n",
        "    url = \"https://en.wikipedia.org/w/api.php\"\n",
        "    params = {\n",
        "        \"action\": \"query\",\n",
        "        \"prop\": \"extracts\",\n",
        "        \"titles\": article_name,\n",
        "        \"format\": \"json\"\n",
        "  \n",
        "    }\n",
        "  \n",
        "    data = requests.get(url, params=params)\n",
        "    return data.json()\n",
        "\n",
        "data = get_content(\"Ozone_layer\")\n",
        "#print(data)"
      ],
      "metadata": {
        "id": "AmBeZ5SW4CKW"
      },
      "execution_count": 2,
      "outputs": []
    },
    {
      "cell_type": "code",
      "source": [
        "def merge_contents(data):\n",
        "    required_data = list(data[\"query\"][\"pages\"].values())[0][\"extract\"]\n",
        "    soup = BeautifulSoup(required_data, \"html.parser\").text\n",
        "    return soup\n",
        "\n",
        "\n",
        "merged_content = merge_contents(data)\n",
        "#print(merged_content)\n",
        "                                    "
      ],
      "metadata": {
        "id": "9uG7ZbUb4E8Y"
      },
      "execution_count": 3,
      "outputs": []
    },
    {
      "cell_type": "code",
      "source": [
        "def tokenize(content):\n",
        "    splitter = re.split(\"\\. |, |\\.|\\n| |-|\\'\", content)\n",
        "    words = []\n",
        "    for i in splitter:\n",
        "        if i.isalpha():\n",
        "            words.append(i)\n",
        "    return words\n",
        "\n",
        "stop_words = [\"the\", \"of\", \"and\", \"in\", \"to\", \"is\", \"a\", \"by\"]\n",
        "collection = tokenize(merged_content)\n",
        "#print(collection)"
      ],
      "metadata": {
        "id": "_CGhV41F4JcS"
      },
      "execution_count": 4,
      "outputs": []
    },
    {
      "cell_type": "code",
      "source": [
        "def lower_collection(collection):\n",
        "    lower_words = [word.lower() for word in collection]\n",
        "    return lower_words\n",
        "\n",
        "collection = lower_collection(collection)\n",
        "#print(collection)    "
      ],
      "metadata": {
        "id": "NZNCg14X4Mhh"
      },
      "execution_count": 5,
      "outputs": []
    },
    {
      "cell_type": "code",
      "source": [
        "def count_frequency(collection):\n",
        "    frequency = {}\n",
        "    for word in collection:\n",
        "        if word in frequency:\n",
        "            frequency[word] += 1\n",
        "        else:\n",
        "            frequency[word] = 1\n",
        "    return frequency"
      ],
      "metadata": {
        "id": "PRxdWwxn4PdN"
      },
      "execution_count": 6,
      "outputs": []
    },
    {
      "cell_type": "code",
      "source": [
        "def print_most_frequent(frequencies, n):\n",
        "    for i in range(n):\n",
        "        word, freq = max(frequencies.items(), key=lambda x: x[1])\n",
        "        print(f\"{word}: {freq}\")\n",
        "        del frequencies[word]\n",
        "\n",
        "frequencies = count_frequency(collection)\n",
        "print_most_frequent(frequencies, 10)"
      ],
      "metadata": {
        "colab": {
          "base_uri": "https://localhost:8080/"
        },
        "id": "P9wd8Pwm4Sqq",
        "outputId": "d6edbfbb-8a91-4f00-cdf1-7c99d6b60b8e"
      },
      "execution_count": 7,
      "outputs": [
        {
          "output_type": "stream",
          "name": "stdout",
          "text": [
            "the: 207\n",
            "of: 106\n",
            "ozone: 90\n",
            "and: 80\n",
            "in: 71\n",
            "to: 63\n",
            "is: 39\n",
            "a: 33\n",
            "layer: 26\n",
            "by: 25\n"
          ]
        }
      ]
    },
    {
      "cell_type": "code",
      "source": [
        "def remove_stop_words(words, stop_words):\n",
        "    stop_words = set(stop_words)\n",
        "    return (word for word in words if word not in stop_words)\n",
        "\n",
        "\n",
        "collection = tokenize(merged_content)\n",
        "collection = lower_collection(collection)\n",
        "\n",
        "filtered_collection = remove_stop_words(collection, stop_words)\n",
        "print(list(filtered_collection))"
      ],
      "metadata": {
        "colab": {
          "base_uri": "https://localhost:8080/"
        },
        "id": "TwbcwbzK4VsN",
        "outputId": "e7a44d9e-1607-437a-f0a2-b4bd32fd4579"
      },
      "execution_count": 8,
      "outputs": [
        {
          "output_type": "stream",
          "name": "stdout",
          "text": [
            "['ozone', 'layer', 'or', 'ozone', 'shield', 'region', 'earth', 's', 'stratosphere', 'that', 'absorbs', 'most', 'sun', 's', 'ultraviolet', 'radiation', 'it', 'contains', 'high', 'concentration', 'ozone', 'relation', 'other', 'parts', 'atmosphere', 'although', 'still', 'small', 'relation', 'other', 'gases', 'stratosphere', 'ozone', 'layer', 'contains', 'less', 'than', 'parts', 'per', 'million', 'ozone', 'while', 'average', 'ozone', 'concentration', 'earth', 's', 'atmosphere', 'as', 'whole', 'about', 'parts', 'per', 'million', 'ozone', 'layer', 'mainly', 'found', 'lower', 'portion', 'stratosphere', 'from', 'approximately', 'kilometers', 'above', 'earth', 'although', 'its', 'thickness', 'varies', 'seasonally', 'geographically', 'ozone', 'layer', 'was', 'discovered', 'french', 'physicists', 'charles', 'fabry', 'henri', 'buisson', 'measurements', 'sun', 'showed', 'that', 'radiation', 'sent', 'out', 'from', 'its', 'surface', 'reaching', 'ground', 'on', 'earth', 'usually', 'consistent', 'with', 'spectrum', 'black', 'body', 'with', 'temperature', 'range', 'except', 'that', 'there', 'was', 'no', 'radiation', 'below', 'wavelength', 'about', 'at', 'ultraviolet', 'end', 'spectrum', 'it', 'was', 'deduced', 'that', 'missing', 'radiation', 'was', 'being', 'absorbed', 'something', 'atmosphere', 'eventually', 'spectrum', 'missing', 'radiation', 'was', 'matched', 'only', 'one', 'known', 'chemical', 'ozone', 'its', 'properties', 'were', 'explored', 'detail', 'british', 'meteorologist', 'g', 'm', 'b', 'dobson', 'who', 'developed', 'simple', 'spectrophotometer', 'that', 'could', 'be', 'used', 'measure', 'stratospheric', 'ozone', 'from', 'ground', 'between', 'dobson', 'established', 'worldwide', 'network', 'ozone', 'monitoring', 'stations', 'which', 'continue', 'operate', 'this', 'day', 'convenient', 'measure', 'amount', 'ozone', 'overhead', 'named', 'his', 'honor', 'ozone', 'layer', 'absorbs', 'percent', 'sun', 's', 'medium', 'frequency', 'ultraviolet', 'light', 'about', 'which', 'otherwise', 'would', 'potentially', 'damage', 'exposed', 'life', 'forms', 'near', 'surface', 'atmospheric', 'research', 'revealed', 'that', 'ozone', 'layer', 'was', 'being', 'depleted', 'chemicals', 'released', 'industry', 'mainly', 'chlorofluorocarbons', 'concerns', 'that', 'increased', 'uv', 'radiation', 'due', 'ozone', 'depletion', 'threatened', 'life', 'on', 'earth', 'including', 'increased', 'skin', 'cancer', 'humans', 'other', 'ecological', 'problems', 'led', 'bans', 'on', 'chemicals', 'latest', 'evidence', 'that', 'ozone', 'depletion', 'has', 'slowed', 'or', 'stopped', 'united', 'nations', 'general', 'assembly', 'has', 'designated', 'september', 'as', 'international', 'day', 'for', 'preservation', 'ozone', 'layer', 'venus', 'also', 'has', 'thin', 'ozone', 'layer', 'at', 'an', 'altitude', 'kilometers', 'above', 'planet', 's', 'surface', 'sources', 'photochemical', 'mechanisms', 'that', 'give', 'rise', 'ozone', 'layer', 'were', 'discovered', 'british', 'physicist', 'sydney', 'chapman', 'ozone', 'earth', 's', 'stratosphere', 'created', 'ultraviolet', 'light', 'striking', 'ordinary', 'oxygen', 'molecules', 'containing', 'two', 'oxygen', 'atoms', 'splitting', 'them', 'into', 'individual', 'oxygen', 'atoms', 'atomic', 'oxygen', 'then', 'combines', 'with', 'unbroken', 'create', 'ozone', 'ozone', 'molecule', 'unstable', 'stratosphere', 'long', 'when', 'ultraviolet', 'light', 'hits', 'ozone', 'it', 'splits', 'into', 'molecule', 'an', 'individual', 'atom', 'oxygen', 'continuing', 'process', 'called', 'ozone', 'oxygen', 'cycle', 'chemically', 'this', 'can', 'be', 'described', 'o', 'h', 'ν', 'uv', 'o', 'o', 'o', 'o', 'about', 'percent', 'ozone', 'atmosphere', 'contained', 'stratosphere', 'ozone', 'concentrations', 'are', 'greatest', 'between', 'about', 'kilometres', 'where', 'they', 'range', 'from', 'about', 'parts', 'per', 'million', 'if', 'all', 'ozone', 'were', 'compressed', 'pressure', 'air', 'at', 'sea', 'level', 'it', 'would', 'be', 'only', 'millimetres', 'thick', 'ultraviolet', 'light', 'although', 'concentration', 'ozone', 'ozone', 'layer', 'very', 'small', 'it', 'vitally', 'important', 'life', 'because', 'it', 'absorbs', 'biologically', 'harmful', 'ultraviolet', 'radiation', 'coming', 'from', 'sun', 'extremely', 'short', 'or', 'vacuum', 'uv', 'screened', 'out', 'nitrogen', 'uv', 'radiation', 'capable', 'penetrating', 'nitrogen', 'divided', 'into', 'three', 'categories', 'based', 'on', 'its', 'these', 'are', 'referred', 'as', 'uv', 'uv', 'b', 'uv', 'c', 'uv', 'c', 'which', 'very', 'harmful', 'all', 'living', 'things', 'entirely', 'screened', 'out', 'combination', 'dioxygen', 'ozone', 'about', 'around', 'kilometres', 'altitude', 'uv', 'b', 'radiation', 'can', 'be', 'harmful', 'skin', 'main', 'cause', 'excessive', 'exposure', 'can', 'also', 'cause', 'cataracts', 'immune', 'system', 'suppression', 'genetic', 'damage', 'resulting', 'problems', 'such', 'as', 'skin', 'cancer', 'ozone', 'layer', 'absorbs', 'from', 'about', 'with', 'maximal', 'absorption', 'at', 'about', 'very', 'effective', 'at', 'screening', 'out', 'uv', 'for', 'radiation', 'with', 'wavelength', 'intensity', 'at', 'top', 'atmosphere', 'million', 'times', 'stronger', 'than', 'at', 'earth', 's', 'surface', 'nevertheless', 'some', 'uv', 'b', 'particularly', 'at', 'its', 'longest', 'wavelengths', 'reaches', 'surface', 'important', 'for', 'skin', 's', 'production', 'vitamin', 'd', 'mammals', 'ozone', 'transparent', 'most', 'uv', 'so', 'most', 'this', 'longer', 'wavelength', 'uv', 'radiation', 'reaches', 'surface', 'it', 'constitutes', 'most', 'uv', 'reaching', 'earth', 'this', 'type', 'uv', 'radiation', 'significantly', 'less', 'harmful', 'dna', 'although', 'it', 'may', 'still', 'potentially', 'cause', 'physical', 'damage', 'premature', 'aging', 'skin', 'indirect', 'genetic', 'damage', 'skin', 'cancer', 'distribution', 'stratosphere', 'thickness', 'ozone', 'layer', 'varies', 'worldwide', 'generally', 'thinner', 'near', 'equator', 'thicker', 'near', 'poles', 'thickness', 'refers', 'how', 'much', 'ozone', 'column', 'over', 'given', 'area', 'varies', 'from', 'season', 'season', 'reasons', 'for', 'these', 'variations', 'are', 'due', 'atmospheric', 'circulation', 'patterns', 'solar', 'intensity', 'majority', 'ozone', 'produced', 'over', 'tropics', 'transported', 'towards', 'poles', 'stratospheric', 'wind', 'patterns', 'northern', 'hemisphere', 'these', 'patterns', 'known', 'as', 'circulation', 'make', 'ozone', 'layer', 'thickest', 'spring', 'thinnest', 'fall', 'when', 'ozone', 'produced', 'solar', 'uv', 'radiation', 'tropics', 'it', 'done', 'so', 'circulation', 'lifting', 'ozone', 'poor', 'air', 'out', 'troposphere', 'into', 'stratosphere', 'where', 'sun', 'photolyzes', 'oxygen', 'molecules', 'turns', 'them', 'into', 'ozone', 'then', 'ozone', 'rich', 'air', 'carried', 'higher', 'latitudes', 'drops', 'into', 'lower', 'layers', 'atmosphere', 'research', 'has', 'found', 'that', 'ozone', 'levels', 'united', 'states', 'are', 'highest', 'spring', 'months', 'april', 'may', 'lowest', 'october', 'while', 'total', 'amount', 'ozone', 'increases', 'moving', 'from', 'tropics', 'higher', 'latitudes', 'concentrations', 'are', 'greater', 'high', 'northern', 'latitudes', 'than', 'high', 'southern', 'latitudes', 'with', 'spring', 'ozone', 'columns', 'high', 'northern', 'latitudes', 'occasionally', 'exceeding', 'du', 'averaging', 'du', 'whereas', 'du', 'constituted', 'usual', 'maximum', 'antarctic', 'before', 'anthropogenic', 'ozone', 'depletion', 'this', 'difference', 'occurred', 'naturally', 'because', 'weaker', 'polar', 'vortex', 'stronger', 'circulation', 'northern', 'hemisphere', 'owing', 'that', 'large', 'mountain', 'ranges', 'greater', 'contrasts', 'between', 'land', 'ocean', 'temperatures', 'difference', 'between', 'high', 'northern', 'southern', 'latitudes', 'has', 'increased', 'since', 'due', 'ozone', 'hole', 'phenomenon', 'highest', 'amounts', 'ozone', 'are', 'found', 'over', 'arctic', 'during', 'spring', 'months', 'march', 'april', 'but', 'antarctic', 'has', 'lowest', 'amounts', 'ozone', 'during', 'summer', 'months', 'september', 'depletion', 'ozone', 'layer', 'can', 'be', 'depleted', 'free', 'radical', 'catalysts', 'including', 'nitric', 'oxide', 'nitrous', 'oxide', 'hydroxyl', 'atomic', 'chlorine', 'atomic', 'bromine', 'while', 'there', 'are', 'natural', 'sources', 'for', 'all', 'these', 'species', 'concentrations', 'chlorine', 'bromine', 'increased', 'markedly', 'recent', 'decades', 'because', 'release', 'large', 'quantities', 'man', 'made', 'organohalogen', 'compounds', 'especially', 'chlorofluorocarbons', 'bromofluorocarbons', 'these', 'highly', 'stable', 'compounds', 'are', 'capable', 'surviving', 'rise', 'stratosphere', 'where', 'cl', 'br', 'radicals', 'are', 'liberated', 'action', 'ultraviolet', 'light', 'each', 'radical', 'then', 'free', 'initiate', 'catalyze', 'chain', 'reaction', 'capable', 'breaking', 'down', 'over', 'ozone', 'molecules', 'nitrous', 'oxide', 'was', 'largest', 'ozone', 'depleting', 'substance', 'emitted', 'through', 'human', 'activities', 'breakdown', 'ozone', 'stratosphere', 'results', 'reduced', 'absorption', 'ultraviolet', 'radiation', 'consequently', 'unabsorbed', 'dangerous', 'ultraviolet', 'radiation', 'able', 'reach', 'earth', 's', 'surface', 'at', 'higher', 'intensity', 'ozone', 'levels', 'have', 'dropped', 'worldwide', 'average', 'about', 'percent', 'since', 'late', 'for', 'approximately', 'percent', 'earth', 's', 'surface', 'around', 'north', 'south', 'poles', 'much', 'larger', 'seasonal', 'declines', 'have', 'been', 'seen', 'are', 'described', 'as', 'let', 'it', 'be', 'known', 'that', 'are', 'actually', 'patches', 'ozone', 'layer', 'which', 'ozone', 'thinner', 'thinnest', 'parts', 'ozone', 'are', 'at', 'polar', 'points', 'earth', 's', 'axis', 'discovery', 'annual', 'depletion', 'ozone', 'above', 'antarctic', 'was', 'first', 'announced', 'joe', 'farman', 'brian', 'gardiner', 'jonathan', 'shanklin', 'paper', 'which', 'appeared', 'nature', 'on', 'may', 'regulation', 'attempts', 'have', 'included', 'but', 'not', 'have', 'been', 'limited', 'clean', 'air', 'act', 'implemented', 'united', 'states', 'environmental', 'protection', 'agency', 'clean', 'air', 'act', 'introduced', 'requirement', 'national', 'ambient', 'air', 'quality', 'standards', 'with', 'ozone', 'pollutions', 'being', 'one', 'six', 'criteria', 'pollutants', 'this', 'regulation', 'has', 'proven', 'be', 'effective', 'since', 'counties', 'cities', 'tribal', 'regions', 'must', 'abide', 'these', 'standards', 'epa', 'also', 'provides', 'assistance', 'for', 'each', 'region', 'regulate', 'contaminants', 'effective', 'presentation', 'information', 'has', 'also', 'proven', 'be', 'important', 'order', 'educate', 'general', 'population', 'existence', 'regulation', 'ozone', 'depletion', 'contaminants', 'scientific', 'paper', 'was', 'written', 'sheldon', 'ungar', 'which', 'author', 'explores', 'studies', 'how', 'information', 'about', 'depletion', 'ozone', 'climate', 'change', 'various', 'related', 'topics', 'ozone', 'case', 'was', 'communicated', 'lay', 'persons', 'easy', 'understand', 'bridging', 'metaphors', 'derived', 'from', 'popular', 'related', 'risks', 'with', 'everyday', 'specific', 'metaphors', 'used', 'discussion', 'shield', 'ozone', 'proved', 'quite', 'useful', 'compared', 'global', 'climate', 'change', 'ozone', 'case', 'was', 'much', 'more', 'seen', 'as', 'imminent', 'risk', 'lay', 'people', 'were', 'cautious', 'about', 'depletion', 'ozone', 'layer', 'risks', 'skin', 'cancer', 'ozone', 'can', 'cause', 'adverse', 'health', 'risks', 'respiratory', 'effects', 'proven', 'be', 'an', 'aggravator', 'respiratory', 'illnesses', 'such', 'as', 'asthma', 'copd', 'emphysema', 'that', 'why', 'many', 'countries', 'have', 'set', 'place', 'regulations', 'improve', 'ozone', 'prevent', 'increase', 'ozone', 'urban', 'or', 'residential', 'areas', 'terms', 'ozone', 'protection', 'preservation', 'european', 'union', 'has', 'strict', 'guidelines', 'on', 'what', 'products', 'are', 'allowed', 'be', 'bought', 'distributed', 'or', 'used', 'specific', 'areas', 'with', 'effective', 'regulation', 'ozone', 'expected', 'heal', 'over', 'time', 'united', 'states', 'canada', 'norway', 'enacted', 'bans', 'on', 'cfc', 'containing', 'aerosol', 'sprays', 'that', 'damage', 'ozone', 'layer', 'european', 'community', 'rejected', 'an', 'analogous', 'proposal', 'do', 'same', 'u', 's', 'chlorofluorocarbons', 'continued', 'be', 'used', 'other', 'applications', 'such', 'as', 'refrigeration', 'industrial', 'cleaning', 'until', 'after', 'discovery', 'antarctic', 'ozone', 'hole', 'after', 'negotiation', 'an', 'international', 'treaty', 'montreal', 'cfc', 'production', 'was', 'capped', 'at', 'levels', 'with', 'commitments', 'long', 'term', 'reductions', 'this', 'allowed', 'for', 'ten', 'year', 'phase', 'for', 'developing', 'countries', 'article', 'since', 'that', 'time', 'treaty', 'was', 'amended', 'ban', 'cfc', 'production', 'after', 'developed', 'countries', 'later', 'developing', 'countries', 'today', 'all', 'world', 's', 'countries', 'have', 'signed', 'treaty', 'beginning', 'january', 'only', 'recycled', 'stockpiled', 'cfcs', 'were', 'available', 'for', 'use', 'developed', 'countries', 'like', 'us', 'this', 'production', 'phaseout', 'was', 'possible', 'because', 'efforts', 'ensure', 'that', 'there', 'would', 'be', 'substitute', 'chemicals', 'technologies', 'for', 'all', 'ods', 'uses', 'on', 'august', 'scientists', 'announced', 'that', 'global', 'depletion', 'ozone', 'layer', 'may', 'be', 'slowing', 'down', 'because', 'international', 'regulation', 'ozone', 'depleting', 'substances', 'study', 'organized', 'american', 'geophysical', 'union', 'three', 'satellites', 'three', 'ground', 'stations', 'confirmed', 'that', 'upper', 'atmosphere', 'ozone', 'depletion', 'rate', 'slowed', 'significantly', 'during', 'previous', 'decade', 'some', 'breakdown', 'can', 'be', 'expected', 'continue', 'because', 'odss', 'used', 'nations', 'which', 'have', 'not', 'banned', 'them', 'because', 'gases', 'which', 'are', 'already', 'stratosphere', 'some', 'odss', 'including', 'cfcs', 'have', 'very', 'long', 'atmospheric', 'lifetimes', 'ranging', 'from', 'over', 'years', 'it', 'has', 'been', 'estimated', 'that', 'ozone', 'layer', 'will', 'recover', 'levels', 'near', 'middle', 'century', 'gradual', 'trend', 'toward', 'was', 'reported', 'compounds', 'containing', 'bonds', 'as', 'hydrochlorofluorocarbons', 'or', 'have', 'been', 'designed', 'replace', 'cfcs', 'certain', 'applications', 'these', 'replacement', 'compounds', 'are', 'more', 'reactive', 'less', 'likely', 'survive', 'long', 'enough', 'atmosphere', 'reach', 'stratosphere', 'where', 'they', 'could', 'affect', 'ozone', 'layer', 'while', 'being', 'less', 'damaging', 'than', 'cfcs', 'hcfcs', 'can', 'have', 'negative', 'impact', 'on', 'ozone', 'layer', 'so', 'they', 'are', 'also', 'being', 'phased', 'out', 'these', 'turn', 'are', 'being', 'replaced', 'hydrofluorocarbons', 'other', 'compounds', 'that', 'do', 'not', 'destroy', 'stratospheric', 'ozone', 'at', 'all', 'residual', 'effects', 'cfcs', 'accumulating', 'within', 'atmosphere', 'lead', 'concentration', 'gradient', 'between', 'atmosphere', 'ocean', 'this', 'organohalogen', 'compound', 'able', 'dissolve', 'into', 'ocean', 's', 'surface', 'waters', 'able', 'act', 'as', 'time', 'dependent', 'tracer', 'this', 'tracer', 'helps', 'scientists', 'study', 'ocean', 'circulation', 'tracing', 'biological', 'physical', 'chemical', 'pathways', 'implications', 'for', 'astronomy', 'as', 'ozone', 'atmosphere', 'prevents', 'most', 'energetic', 'ultraviolet', 'radiation', 'reaching', 'surface', 'earth', 'astronomical', 'data', 'these', 'wavelengths', 'have', 'be', 'gathered', 'from', 'satellites', 'orbiting', 'above', 'atmosphere', 'ozone', 'layer', 'most', 'light', 'from', 'young', 'hot', 'stars', 'ultraviolet', 'so', 'study', 'these', 'wavelengths', 'important', 'for', 'studying', 'origins', 'galaxies', 'galaxy', 'evolution', 'explorer', 'galex', 'an', 'orbiting', 'ultraviolet', 'space', 'telescope', 'launched', 'on', 'april', 'which', 'operated', 'until', 'early', 'see', 'also', 'nuclear', 'winter', 'united', 'nations', 'environment', 'programme', 'short', 'lived', 'climate', 'pollutantsreferences', 'further', 'reading', 'scienceandersen', 's', 'o', 'from', 'stratospheric', 'ozone', 'layer', 'protection', 'for', 'journal', 'environmental', 'studies', 'sciences', 'andersen', 's', 'o', 'sarma', 'k', 'm', 'sinclair', 'l', 'protecting', 'ozone', 'united', 'nations', 'history', 'taylor', 'francis', 'united', 'nations', 'environment', 'programme', 'environmental', 'effects', 'ozone', 'depletion', 'its', 'interactions', 'with', 'climate', 'assessment', 'unep', 'velders', 'g', 'j', 'm', 'fahey', 'd', 'w', 'daniel', 'j', 's', 'mcfarland', 'm', 'andersen', 's', 'o', 'large', 'contribution', 'projected', 'hfc', 'emissions', 'future', 'climate', 'proceedings', 'national', 'academy', 'sciences', 'velders', 'guus', 'j', 'm', 'andersen', 'stephen', 'o', 'daniel', 'john', 's', 'fahey', 'david', 'w', 'mcfarland', 'mack', 'importance', 'montreal', 'protocol', 'protecting', 'proceedings', 'national', 'academy', 'sciences', 'united', 'states', 'america', 'policyzaelke', 'borgford', 'parnell', 'nathan', 'importance', 'phasing', 'down', 'hydrofluorocarbons', 'other', 'short', 'lived', 'climate', 'journal', 'environmental', 'studies', 'sciences', 'xu', 'y', 'zaelke', 'd', 'velders', 'g', 'j', 'm', 'ramanathan', 'v', 'role', 'hfcs', 'mitigating', 'century', 'climate', 'atmospheric', 'chemistry', 'physics', 'molina', 'm', 'zaelke', 'd', 'sarma', 'k', 'm', 'andersen', 's', 'o', 'ramanathan', 'v', 'kaniaru', 'd', 'abrupt', 'climate', 'change', 'risk', 'using', 'montreal', 'protocol', 'other', 'regulatory', 'actions', 'complement', 'cuts', 'proceedings', 'national', 'academy', 'sciences', 'anderson', 's', 'o', 'sarma', 'm', 'k', 'taddonio', 'k', 'technology', 'transfer', 'for', 'ozone', 'lessons', 'for', 'climate', 'change', 'earthscan', 'benedick', 'richard', 'world', 'wildlife', 'fund', 's', 'institute', 'for', 'study', 'diplomacy', 'georgetown', 'university', 'ozone', 'new', 'directions', 'safeguarding', 'planet', 'harvard', 'university', 'press', 'benedick', 'was', 'chief', 'u', 's', 'negotiator', 'at', 'meetings', 'that', 'resulted', 'montreal', 'protocol', 'chasek', 'p', 's', 'downie', 'david', 'l', 'brown', 'j', 'w', 'global', 'environmental', 'politics', 'westview', 'press', 'grundmann', 'reiner', 'transnational', 'environmental', 'reconstructing', 'ozone', 'psychology', 'press', 'parson', 'e', 'protecting', 'ozone', 'science', 'strategy', 'oxford', 'university', 'press', 'external', 'links', 'stratospheric', 'an', 'electronic', 'textbook', 'ozone', 'layer', 'info', 'cams', 'stratospheric', 'ozone', 'service', 'delivers', 'maps', 'datasets', 'validation', 'reports', 'about', 'past', 'current', 'state', 'ozone', 'layer', 'ozone', 'layer', 'at', 'curlie']\n"
          ]
        }
      ]
    },
    {
      "cell_type": "code",
      "source": [
        "def visualizing(frequencies, n):\n",
        "    words = []\n",
        "    counts = []\n",
        "    colors = []\n",
        "    for i in range(n):\n",
        "        word, freq= max(frequencies.items(), key=lambda x: x[1])\n",
        "        words.append(word)\n",
        "        counts.append(freq)\n",
        "        colors.append('#%06X' % random.randint(0, 0xFFFFFF))\n",
        "        del frequencies[word]\n",
        "    \n",
        "    plt.figure(figsize=(20, 10))\n",
        "    plt.xlabel(\"Most Common Tokens in the Ozone layer article\")\n",
        "    plt.barh(words[::-1], counts[::-1], color=colors[::-1])\n",
        "    plt.show()\n",
        "\n",
        "filtered_collection = list(remove_stop_words(collection, stop_words))\n",
        "if len(filtered_collection) == 0:\n",
        "    print(\"filtered_collection is empty\")\n",
        "else:\n",
        "    frequencies_filtered = count_frequency(filtered_collection)\n",
        "    visualizing(frequencies_filtered,  20)    \n",
        "#frequencies = count_frequency(collection)\n",
        "#visualizing(frequencies, 20)"
      ],
      "metadata": {
        "colab": {
          "base_uri": "https://localhost:8080/",
          "height": 606
        },
        "id": "B4weLF-J4YxC",
        "outputId": "0c5fb12d-cfaa-4845-96b2-3d647ae65b6f"
      },
      "execution_count": 9,
      "outputs": [
        {
          "output_type": "display_data",
          "data": {
            "text/plain": [
              "<Figure size 1440x720 with 1 Axes>"
            ],
            "image/png": "[encoded data removed]"
          },
          "metadata": {
            "needs_background": "light"
          }
        }
      ]
    },
    {
      "cell_type": "code",
      "source": [],
      "metadata": {
        "id": "G3Ic2Wd24csh"
      },
      "execution_count": null,
      "outputs": []
    }
  ]
}